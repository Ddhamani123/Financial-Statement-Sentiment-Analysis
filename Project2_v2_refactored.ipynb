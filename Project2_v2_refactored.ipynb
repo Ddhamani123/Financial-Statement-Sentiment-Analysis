{
 "cells": [
  {
   "cell_type": "code",
   "execution_count": 2,
   "id": "1ed57fee-7ec1-4c5d-9795-5c7fdbd6a9d4",
   "metadata": {},
   "outputs": [],
   "source": [
    "# Please list the names of your group members in the list named 'members'\n",
    "\n",
    "members = [\"Dhairya Dhamani\", \"Marisa Guerra\", \"Kristen Cheung\", \"Holt Boink\", \"Hammad Hassan\"]"
   ]
  },
  {
   "cell_type": "markdown",
   "id": "b85efdc1-4ca7-4aeb-965a-ed6ca71a4820",
   "metadata": {},
   "source": [
    "### Please create a group of no more than 5 group members to solve Projects 2 and 3"
   ]
  },
  {
   "cell_type": "markdown",
   "id": "0e15c23d-60bd-4011-a102-ded14e8ea591",
   "metadata": {},
   "source": [
    "# Project 2\n",
    "\n",
    "<b>Your job in this project is to calculate a number of statistics for real-life firms using the SEC EDGAR system. To get started, you will want to look at the examples in the Topic 2.1 notebook on Canvas. There is nothing about the questions that I am asking that limits us to filings from 1998 through 2000. However, doing so minimizes the likelihood that you'll need to remove html tags from the 10-K filings that you process in question 3.</b>\n",
    "\n",
    "- <b>Question 1a.</b> Use master.idx available on EDGAR to create a list of CIKs for firms that file a 10-K in the fourth quarters of 1998, 1999, and 2000. This is obviously a subset of the firms that file a 10-K in each of these calendar years.\n",
    "- <b>Question 1b</b>. Use the SEC's current mapping from tickers to CIKs (provided below) to determine how many of the CIKs in question 1a currently have a ticker. (I am not asking you to verify that the CIK belongs to the same firm today that it did in 1998-2000; I don't know the SEC's policy on re-using CIKs.)\n",
    "- <b>Question 2a</b>. For the CIKs from question 1a, how many 8-K were filed during each month of 1999? How many 8-Ks were filed on each day of the week during 1999?\n",
    "- <b>Question 2b.</b> Calculate summary statistics based on the number of 8-Ks filed during 1999 by the CIKs from question 1a.\n",
    "- <b>Question 3.</b> Pick one of the CIK from question 1a at random and measure the sentiment of item 1 of its 10-Ks from 1998, 1999, and 2000.\n",
    "\n",
    "<i>Hint #1: Although my solutions heavily on dictionaries, some questions are easier to answer using numpy and/or pandas. You are welcome to use any combination of approaches/libraries.</i>\n",
    "\n",
    "<i>Hint #2: Start as soon as possible! Before you start coding, write down the steps you need to undertake to answer each question.</i>.\n",
    "\n",
    "<i>Hint #3: When downloading files from SEC EDGAR, please include statements like 'if not os.path.exists(destfile)', so that you do not download the same file over and over again."
   ]
  },
  {
   "cell_type": "code",
   "execution_count": 3,
   "id": "abc8f2d7-ced2-4621-b4c4-b89b62e5e6c1",
   "metadata": {},
   "outputs": [],
   "source": [
    "import os\n",
    "import re\n",
    "import random\n",
    "import requests      # my preferred library for downloading files from SEC EDGAR; see Topic 2.1\n",
    "import datetime      # useful when I ask you to convert dates into days of the week (e.g. Monday)\n",
    "import statistics\n",
    "import numpy as np   # for some questions, I will present alternative solutions using numpy \n",
    "import pandas as pd  # just in case you want to use pandas\n",
    "import urllib.request # used for accessing websites"
   ]
  },
  {
   "cell_type": "markdown",
   "id": "98011a71-a558-4eee-a7bf-648e404564e4",
   "metadata": {
    "tags": []
   },
   "source": [
    "### <b>Question 1a (5 points).</b> \n",
    "\n",
    "Determine the CIK of every firm that filed a 10-K in the fourth quarters of 1998, 1999, and 2000. You should focus on filing dates, which are available in master.idx, as opposed to effective dates, which are not. (You should exclude the CIK of any firm that files multiple 10-Ks in a given quarter or that fails to file a 10-K in each of the three calendar years.) Create a list named `unique_ciks` that contains this list of CIKs. Print the length of this list. \n",
    "\n",
    "<i>Hint: You need to start by downloading the master.idx files for 1998/QTR4, 1999/QTR4, and 2000/QTR4.</i>"
   ]
  },
  {
   "cell_type": "code",
   "execution_count": 4,
   "id": "51f44bc9-eeaa-4a16-8be3-2928cc60f682",
   "metadata": {
    "tags": []
   },
   "outputs": [],
   "source": [
    "# Function for accessing files from the link, string for path of file, and filename to save\n",
    "def fromfile(url, filename):\n",
    "    # Destination to download file and the name for file\n",
    "    destfile = os.path.join(os.getcwd(), filename)\n",
    "    # If-else statements to check if file not already downloaded, then download file\n",
    "    if not os.path.exists(destfile):\n",
    "        urllib.request.urlretrieve(url, destfile)\n",
    "    # Return destfile to use later\n",
    "    return destfile"
   ]
  },
  {
   "cell_type": "code",
   "execution_count": 5,
   "id": "565e7cc9-a552-4775-b90a-bff267cf1f6c",
   "metadata": {
    "tags": []
   },
   "outputs": [],
   "source": [
    "# Function to open file and return converted file to list\n",
    "def read_lines(file):\n",
    "    f = open(file,'r')\n",
    "    lines = f.readlines()\n",
    "    f.close()\n",
    "    return lines"
   ]
  },
  {
   "cell_type": "code",
   "execution_count": 6,
   "id": "c9c00003-fd95-4e84-bd39-f4e4dc9319c0",
   "metadata": {},
   "outputs": [],
   "source": [
    "# Creating the agent to open websites under the username and email\n",
    "opener = urllib.request.build_opener()\n",
    "opener.addheaders = [('User-agent', 'Mozilla/5.0 (Dhairya Dhamani dhamani@bc.edu)')]\n",
    "urllib.request.install_opener(opener)\n",
    "\n",
    "# Accessing Q4 1998 data\n",
    "destfile1 = fromfile('https://www.sec.gov/Archives/edgar/full-index/1998/QTR4/master.idx','master_1998_Q4.txt')\n",
    "# Accessing Q4 1999 data\n",
    "destfile2 = fromfile('https://www.sec.gov/Archives/edgar/full-index/1999/QTR4/master.idx','master_1999_Q4.txt')\n",
    "# Accessing Q4 2000 data\n",
    "destfile3 = fromfile('https://www.sec.gov/Archives/edgar/full-index/2000/QTR4/master.idx','master_2000_Q4.txt')\n",
    "\n",
    "# Open Q4 1998 data as list\n",
    "lines1 = read_lines(destfile1)\n",
    "# Open Q4 1999 data as list\n",
    "lines2 = read_lines(destfile2)\n",
    "# Open Q4 2000 data as list\n",
    "lines3 = read_lines(destfile3)\n",
    "\n",
    "# Strip element to remove \\n elements\n",
    "lines1 = [element.strip() for element in lines1]\n",
    "lines2 = [element.strip() for element in lines2]\n",
    "lines3 = [element.strip() for element in lines3]\n",
    "# Remove first 10 rows since data is irrelevant there\n",
    "lines1 = lines1[11:]\n",
    "lines2 = lines2[11:]\n",
    "lines3 = lines3[11:]\n",
    "# Splitting on | to retrieve CIK and filing type\n",
    "list_1 = [(element.split('|')[0], element.split('|')[2]) for element in lines1]\n",
    "list_2 = [(element.split('|')[0], element.split('|')[2]) for element in lines2]\n",
    "list_3 = [(element.split('|')[0], element.split('|')[2]) for element in lines3]\n",
    "# Filtering to only include '10-K' filing types and storing corresponding CIKs\n",
    "list_1 = [element[0] for element in list_1 if element[1] == '10-K']\n",
    "list_2 = [element[0] for element in list_2 if element[1] == '10-K']\n",
    "list_3 = [element[0] for element in list_3 if element[1] == '10-K']\n",
    "# Removing duplicates by making sure count = 1 for each cik\n",
    "list_1 = [cik for cik in list_1 if list_1.count(cik) == 1]\n",
    "list_2 = [cik for cik in list_2 if list_2.count(cik) == 1]\n",
    "list_3 = [cik for cik in list_2 if list_3.count(cik) == 1]\n",
    "\n",
    "unique_ciks = []\n",
    "# Iterate through list_1 (1998 data)\n",
    "for i in list_1:\n",
    "    # Check if element in list_2 and list_3 (meaning that CIK in all 3 years)\n",
    "    if i in list_2 and i in list_3:\n",
    "        # Appedning CIK to unique_ciks list\n",
    "        unique_ciks.append(i)"
   ]
  },
  {
   "cell_type": "code",
   "execution_count": 7,
   "id": "5f223118-abd5-4d11-88b8-75708c2ee723",
   "metadata": {},
   "outputs": [
    {
     "name": "stdout",
     "output_type": "stream",
     "text": [
      "The number of unique CIK is 261.\n"
     ]
    }
   ],
   "source": [
    "print(f\"The number of unique CIK is {len(unique_ciks)}.\")"
   ]
  },
  {
   "cell_type": "markdown",
   "id": "2f977685-160e-47ad-9a3c-309e76dd2fa5",
   "metadata": {},
   "source": [
    "### <b>Question 1b (2 points).</b> \n",
    "\n",
    "Use the mapping between tickers and CIK at https://www.sec.gov/include/ticker.txt to create a dictionary `cik_ticker` that maps each of the CIK in `unique_ciks` to a ticker (replacing lowercase letters with uppercase letters). Please use a regular expression to convert <i>ticker.txt</i> into a list of tuples containing the ticker and CIK. If the CIK is missing from <i>ticker.txt</i>, then the corresponding dictionary value should be set equal to \"\". If a CIK in <i>ticker.txt</i> is mising from `unique_ciks`, then it should also be missing from the dictionary `cik_ticker`. Print the 'total' number of CIKs and the number for which a ticker is 'missing'."
   ]
  },
  {
   "cell_type": "code",
   "execution_count": 8,
   "id": "9ad2a2c4-65a5-416d-903f-72f2b74ac1df",
   "metadata": {},
   "outputs": [],
   "source": [
    "# Accessing ticker data from SEC website\n",
    "destfile4 = fromfile('https://www.sec.gov/include/ticker.txt','ticker.txt')\n",
    "\n",
    "# Open ticker data as string\n",
    "f4 = open(destfile4,'r')\n",
    "lines4 = f4.read()\n",
    "f4.close()\n",
    "\n",
    "# Regex to get list of tuples (ff) for ticker and matching ciks from data\n",
    "ff = re.findall('([a-z-?]+)\\s+(\\d*)', lines4)\n",
    "\n",
    "cik_ticker = {}\n",
    "# Extract ticker from ff\n",
    "ticker = [element[0] for element in ff]\n",
    "# Extract cik from ff\n",
    "cik = [element[1] for element in ff]\n",
    "# Iterate through unique_ciks\n",
    "for CIK in unique_ciks:\n",
    "    # Check if CIK from unique_ciks is not in ticker data: if not, then ticker value = \"\" for CIK\n",
    "    if CIK not in cik:\n",
    "            cik_ticker[CIK] = \"\"\n",
    "    # else, CIK is in ticker data\n",
    "    else:\n",
    "        # Enumerate to get index, value of cik from ticker data\n",
    "        for index, c in enumerate(cik):\n",
    "            # If CIK from unique_ciks = cik from ticker data, then assign CIK with corresponding ticker\n",
    "            if CIK == c:\n",
    "                cik_ticker[CIK] = ticker[index]\n",
    "                # Break from for loop since found a match\n",
    "                break\n",
    "        \n",
    "# Calculate total length of dictionary\n",
    "total = len(cik_ticker)\n",
    "# Calculate the total missing values from dictionary\n",
    "missing = sum([1 if c == \"\" else 0 for c in cik_ticker.values()])"
   ]
  },
  {
   "cell_type": "code",
   "execution_count": 9,
   "id": "4d3112a7-b809-4b26-8606-4765b3d80aa2",
   "metadata": {},
   "outputs": [
    {
     "name": "stdout",
     "output_type": "stream",
     "text": [
      "Of the 261 CIK in the cik_ticker dictionary, 210 are missing a ticker.\n"
     ]
    }
   ],
   "source": [
    "print(f'Of the {total} CIK in the cik_ticker dictionary, {missing} are missing a ticker.')"
   ]
  },
  {
   "cell_type": "markdown",
   "id": "b2c5526e-ddd9-4eef-96f2-e40f99a3b875",
   "metadata": {},
   "source": [
    "<b>Discussion question for class: I was unable to locate a ticker for many of the CIK in `unique_ciks`. Why do you think that might be the case?</b>"
   ]
  },
  {
   "cell_type": "markdown",
   "id": "db0ca7ca-bbe3-46ce-9da4-645d9f996636",
   "metadata": {},
   "source": [
    "### <b>Question 2a (4 points).</b> \n",
    "\n",
    "Use the filing dates in the master.idx files for 1999/QTR1, 1999/QTR2, 1999/QTR3, and 1999/QTR4 and the set of CIK in `unique_ciks` to determine the total number of 8-K filed during\n",
    "\n",
    "- Each month of 1999 (JAN, FEB, ..., DEC)\n",
    "- Each day of the week during 1999 (MON, TUE, ..., SUN)\n",
    "\n",
    "(You can learn more about form 8-K here: https://www.sec.gov/answers/form8k.htm)"
   ]
  },
  {
   "cell_type": "code",
   "execution_count": 10,
   "id": "b8f5327f-7256-41bd-b684-b5c3bdaacf04",
   "metadata": {
    "tags": []
   },
   "outputs": [],
   "source": [
    "from datetime import date"
   ]
  },
  {
   "cell_type": "code",
   "execution_count": 11,
   "id": "c646777a-81e2-4b78-8e53-fe56fe2c0670",
   "metadata": {},
   "outputs": [],
   "source": [
    "destfile5 = fromfile('https://www.sec.gov/Archives/edgar/full-index/1999/QTR1/master.idx', 'master_1999_Q1.txt')\n",
    "destfile6 = fromfile('https://www.sec.gov/Archives/edgar/full-index/1999/QTR2/master.idx', 'master_1999_Q2.txt')\n",
    "destfile7 = fromfile('https://www.sec.gov/Archives/edgar/full-index/1999/QTR3/master.idx', 'master_1999_Q3.txt')\n",
    "\n",
    "# Open Q1 1999 data as list\n",
    "lines5 = read_lines(destfile5)\n",
    "# Open Q2 1999 data as list\n",
    "lines6 = read_lines(destfile6)\n",
    "# Open Q3 1999 data as list\n",
    "lines7 = read_lines(destfile7)\n",
    "# Since Q4 1999 is already downloaded, we will just read_lines\n",
    "lines8 = read_lines(destfile2)\n",
    "\n",
    "# Strip element to remove \\n elements\n",
    "lines5 = [element.strip() for element in lines5]\n",
    "lines6 = [element.strip() for element in lines6]\n",
    "lines7 = [element.strip() for element in lines7]\n",
    "lines8 = [element.strip() for element in lines8]\n",
    "# Remove first 10 rows since data is irrelevant there\n",
    "lines5 = lines5[11:]\n",
    "lines6 = lines6[11:]\n",
    "lines7 = lines7[11:]\n",
    "lines8 = lines8[11:]\n",
    "# Splitting on | to retrieve CIK, date, and filing type\n",
    "lines2a = lines5 + lines6 + lines7 + lines8\n",
    "list_2a = [(element.split('|')[0], element.split('|')[2], element.split('|')[3]) for element in lines2a]\n",
    "list_2a = [(element[0], element[2]) for element in list_2a if element[1] == '8-K']\n",
    "\n",
    "# Create empty list to track filings for month and day of 1999\n",
    "month = [0]*12\n",
    "day = [0]*7"
   ]
  },
  {
   "cell_type": "code",
   "execution_count": 12,
   "id": "8d450f8a-1854-4eb9-b0fb-439109604685",
   "metadata": {
    "tags": []
   },
   "outputs": [],
   "source": [
    "# Loop through list_2a containing CIK and date data\n",
    "for element in list_2a:\n",
    "    # Store CIK and date in distinct variables\n",
    "    cik_string = element[0]\n",
    "    date_string = element[1]\n",
    "    # Separate date_string to year, month, date and convert to int\n",
    "    y,m,d = date_string.split('-')\n",
    "    y = int(y)\n",
    "    m = int(m)\n",
    "    d = int(d)\n",
    "    # Use date function from datetime library to create date object to find weekday\n",
    "    date_obj = date(y,m,d)\n",
    "    d = date_obj.weekday()\n",
    "    # Check if cik is in unique_ciks list from previous problem\n",
    "    if cik_string in unique_ciks:\n",
    "        # Increase month and day counter using previous m and d\n",
    "        month[m-1] = month[m-1] + 1\n",
    "        day[d] = day[d] + 1"
   ]
  },
  {
   "cell_type": "code",
   "execution_count": 13,
   "id": "4501f63f-743a-495e-bf60-e860f5bae6f9",
   "metadata": {
    "tags": []
   },
   "outputs": [
    {
     "name": "stdout",
     "output_type": "stream",
     "text": [
      "Month in 1999\n",
      "-------------\n",
      "JAN: 29\n",
      "FEB: 22\n",
      "MAR: 24\n",
      "APR: 47\n",
      "MAY: 47\n",
      "JUN: 30\n",
      "JUL: 55\n",
      "AUG: 22\n",
      "SEP: 41\n",
      "OCT: 35\n",
      "NOV: 33\n",
      "DEC: 25\n",
      "\n",
      "Day in 1999\n",
      "-----------\n",
      "MON: 59\n",
      "TUE: 72\n",
      "WED: 85\n",
      "THU: 85\n",
      "FRI: 109\n",
      "SAT: 0\n",
      "SUN: 0\n"
     ]
    }
   ],
   "source": [
    "# List containing headers for print statements for month and day\n",
    "months_in_year = ['Jan', 'Feb', 'Mar', 'Apr', 'May', 'Jun', 'Jul', 'Aug', 'Sep', 'Oct', 'Nov', 'Dec']\n",
    "days_in_week = ['Mon', 'Tue', 'Wed', 'Thu', 'Fri', 'Sat', 'Sun']\n",
    "\n",
    "print('Month in 1999')\n",
    "print('-------------')\n",
    "# Loop through list for month in year and print corresponding value for listing\n",
    "for index1, mon in enumerate(months_in_year):\n",
    "    print(f'{mon.upper()}: {month[index1]}')\n",
    "print()    \n",
    "print('Day in 1999')\n",
    "print('-----------')\n",
    "# Loop through list for week in year and print corresponding value for listing\n",
    "for index2, days in enumerate(days_in_week):\n",
    "    print(f'{days.upper()}: {day[index2]}')"
   ]
  },
  {
   "cell_type": "markdown",
   "id": "41d13c14-5644-4576-a5a1-4e1875bc1fac",
   "metadata": {},
   "source": [
    "### <b>Question 2b (3 points).</b> \n",
    "\n",
    "Calculate the total number of 8-K filed by each CIK in `unique_ciks` during 1999. (You should have one total per CIK. For CIK that filed no 8-Ks, the total should be equal to zero.) Then, calculate and print the minimum, maximum, mean, median, and standard deviation of the number of 8-Ks filed by CIKs during 1999."
   ]
  },
  {
   "cell_type": "code",
   "execution_count": 14,
   "id": "4d7dbb52-08dd-45e0-8ce4-4118eaa37bf0",
   "metadata": {},
   "outputs": [],
   "source": [
    "# Create a dictionary to track CIKs and number of 8-Ks filed during 1999\n",
    "tot_8K = {}\n",
    "\n",
    "# Loop through all cik in unique_ciks list\n",
    "for cik in unique_ciks:\n",
    "    # Add cik into dictionary with initial count = 0\n",
    "    tot_8K[cik] = 0\n",
    "    # Loop through list_2a, which contains the CIK and date of 8-K filing\n",
    "    for element in list_2a:\n",
    "        # If CIK matches with 8-K filing dictionary, then add count\n",
    "        if element[0] == cik:\n",
    "            tot_8K[cik] = tot_8K[cik] + 1 \n",
    "            \n",
    "tot_8K_values = list(tot_8K.values())"
   ]
  },
  {
   "cell_type": "code",
   "execution_count": 15,
   "id": "b72e72e0-8bf8-4895-966a-96d7ee43a21c",
   "metadata": {
    "tags": []
   },
   "outputs": [
    {
     "name": "stdout",
     "output_type": "stream",
     "text": [
      "Summary statistics of 8-Ks filed by CIKs during 1999\n",
      "Minimum:  0.00\n",
      "Maximum: 13.00\n",
      "Mean:     1.57\n",
      "Median:   1.00\n",
      "St Dev:   2.31\n"
     ]
    }
   ],
   "source": [
    "# Summary stats of minimum, maximum, mean, median, and std dev for total 8-K values\n",
    "print('Summary statistics of 8-Ks filed by CIKs during 1999')\n",
    "print(f'Minimum: {min(tot_8K_values):5.2f}')\n",
    "print(f'Maximum: {max(tot_8K_values):5.2f}')\n",
    "print(f'Mean:    {statistics.mean(tot_8K_values):5.2f}')\n",
    "print(f'Median:  {statistics.median(tot_8K_values):5.2f}')\n",
    "print(f'St Dev:  {statistics.stdev(tot_8K_values):5.2f}')"
   ]
  },
  {
   "cell_type": "markdown",
   "id": "49b31d70-d0b7-4b94-887e-f9b3e9993e69",
   "metadata": {},
   "source": [
    "### <b>Question 3 (6 points).</b> \n",
    "\n",
    "Pick one CIK at random from `unique_ciks` and download the firms' 10-Ks for 1998, 1999, and 2000. (You will find the file names in the master.idx for 1998/QTR4, 1999/QTR4, and 2000/QTR4, which you downloaded for question 1. The general structure of 10-Ks is described here: https://www.sec.gov/answers/reada10k.htm.)\n",
    "\n",
    "Use a <b>regular expression</b> to extract Section 1 (describing the business) from each 10-K as a long string. Because 10-K are not perfectly standardized, even within a firm across years, you may need to tweak the regular expression to make it work with all three filings. Worst case, you can use different regular expressions on the different years. <i>Hint: Before attempting to extract multiple lines of text, it is helpful to replace the '\\n' line returns with '|' or some other delimiter.</i>\n",
    "\n",
    "Then, use the four word lists from Topic 1.9 to create a table with three rows and four columns that reports the fraction of words in Section 1 that are classified as negative, positive, uncertain, and litigious (these are the columns) in the 1998, 1999, and 2000 filings (these are the rows). Please format the numbers so that one percent appears as 1.00%. The table should also include row and column labels. \n",
    "\n",
    "<i>Hint #1: If you pick a firm for whom the 10-Ks are reported in html format, you can either adopt the regex code from class to remove html, or pick a different firm.</i>\n",
    "\n",
    "<i>Hint #2: As we discussed in class, you need to convert the 10-Ks into lists of uppercase words before comparing them to the four lists of words used in sentiment analysis.</i>\n",
    "\n"
   ]
  },
  {
   "cell_type": "code",
   "execution_count": 16,
   "id": "2364c765-0d72-44fc-985a-d84907ed8358",
   "metadata": {},
   "outputs": [],
   "source": [
    "# Imports the four words lists\n",
    "\n",
    "def Input(filename):\n",
    "    f = open(filename, 'r')\n",
    "    lines = [l.strip() for l in f.readlines()]\n",
    "    f.close()\n",
    "    return lines\n",
    "\n",
    "list_neg = Input('1.9_LM_negative.txt')\n",
    "list_pos = Input('1.9_LM_positive.txt')\n",
    "list_unc = Input('1.9_LM_uncertainty.txt')\n",
    "list_lit = Input('1.9_LM_litigious.txt')"
   ]
  },
  {
   "cell_type": "code",
   "execution_count": 17,
   "id": "4da41f30-f78b-44a7-b7a1-138c2bdef230",
   "metadata": {},
   "outputs": [],
   "source": [
    "# Picks your CIK at random. \n",
    "# my_cik = random.sample(unique_ciks,1)[0]\n",
    "# print(my_cik)\n",
    "\n",
    "# Please replace '000000' with your CIK, so that it does\n",
    "# not change when you run this cell again\n",
    "my_cik = '894490'"
   ]
  },
  {
   "cell_type": "code",
   "execution_count": 18,
   "id": "c6cfbefd-9c62-45b5-9704-3f9074089e88",
   "metadata": {},
   "outputs": [],
   "source": [
    "# Accessing 10-K file for my_cik\n",
    "# 1998\n",
    "destfile9 = fromfile('https://www.sec.gov/Archives/edgar/data/894490/0000950170-98-002420.txt', 'cik_1998.txt')\n",
    "# 1999\n",
    "destfile10 = fromfile('https://www.sec.gov/Archives/edgar/data/894490/0000950170-99-001955.txt', 'cik_1999.txt')   \n",
    "# 2000\n",
    "destfile11 = fromfile('https://www.sec.gov/Archives/edgar/data/894490/0000950170-00-002076.txt', 'cik_2000.txt')\n",
    "\n",
    "# Open data as a string\n",
    "f9 = open(destfile9,'r')\n",
    "lines9 = f9.read()\n",
    "f9.close()\n",
    "\n",
    "f10 = open(destfile10,'r')\n",
    "lines10 = f10.read()\n",
    "f10.close()\n",
    "\n",
    "f11 = open(destfile11,'r')\n",
    "lines11 = f11.read()\n",
    "f11.close()"
   ]
  },
  {
   "cell_type": "code",
   "execution_count": 22,
   "id": "5429f1ee-d234-4396-bb14-8a3dc8feb166",
   "metadata": {
    "tags": []
   },
   "outputs": [],
   "source": [
    "# Replacing all \\n with | to work with regex\n",
    "lines9 = lines9.replace('\\n','|')\n",
    "# Finding all characters between Item 1 and Item 2 (this covers the whole business section of 10-K)\n",
    "sect1_1998 = re.findall('ITEM 1(.*)ITEM 2.', lines9)\n",
    "# Capturing only words from the previous list\n",
    "sect1_1998 = re.findall('[A-Za-z]+', sect1_1998[0])\n",
    "# Making all words upper-case and removing any empty characters ('')\n",
    "sect1_1998 = [element.upper() for element in sect1_1998 if element != '']\n",
    "# Removing 'S' to account for all possessive nouns in the list that had apostrophe removed (')\n",
    "while 'S' in sect1_1998:\n",
    "    sect1_1998.remove('S')\n",
    "# Removing 'C' for html language syntax to create columns (removing 'S' and 'C' prevents inflation of count)\n",
    "while 'C' in sect1_1998:\n",
    "    sect1_1998.remove('C')\n",
    "\n",
    "# Repeat for 1999 and 2000 data\n",
    "lines10 = lines10.replace('\\n','|')\n",
    "sect1_1999 = re.findall('ITEM 1(.*)ITEM 2.', lines10)\n",
    "sect1_1999 = re.findall('[A-Za-z]+', sect1_1999[0])\n",
    "sect1_1999 = [element.upper() for element in sect1_1999 if element != '']\n",
    "while 'S' in sect1_1999:\n",
    "    sect1_1999.remove('S')\n",
    "while 'C' in sect1_1999:\n",
    "    sect1_1999.remove('C')\n",
    "    \n",
    "lines11 = lines11.replace('\\n','|')\n",
    "sect1_2000 = re.findall('Item 1.(.*)Item 2.', lines11)\n",
    "sect1_2000 = re.findall('([A-Za-z]+)', sect1_2000[0])\n",
    "sect1_2000 = [element.upper() for element in sect1_2000 if element != '']\n",
    "while 'S' in sect1_2000:\n",
    "    sect1_2000.remove('S')\n",
    "while 'C' in sect1_2000:\n",
    "    sect1_2000.remove('C')\n",
    "    \n",
    "# Create an array counter to store values in a table format\n",
    "counter = np.zeros((3,4))\n",
    "# Create array length to store length of Section 1 lists\n",
    "length = np.zeros((3,))\n",
    "# Create a list of list for words (neg, pos, unc, lit) and section 1 (1998, 1999, 2000)\n",
    "# This allows us to make a more effective for loop instead of writing a for loop for each year and each list\n",
    "list_words = [list_neg, list_pos, list_unc, list_lit]\n",
    "list_sect1 = [sect1_1998, sect1_1999, sect1_2000]\n",
    "\n",
    "# Use the Section 1 lists as rows\n",
    "for row, sect1 in enumerate(list_sect1):\n",
    "    # Count = 0 to count the number of words from the section list that hit the word list\n",
    "    count = 0\n",
    "    # Loop through each kind of word list (neg, pos, unc, lit) to see if words match\n",
    "    for col, words in enumerate(list_words):\n",
    "        # Loop through each word in Section 1 list to check\n",
    "        for w in sect1:\n",
    "            # If word from Section 1 list is in Word list (neg, pos, unc, lit), then add the corresponding counter in table\n",
    "            if w in words:\n",
    "                counter[row, col] = counter[row,col] + 1\n",
    "\n",
    "# For loop for calculating the length of each Section 1 list\n",
    "for c, l in enumerate(list_sect1):\n",
    "    length[c] = len(l)"
   ]
  },
  {
   "cell_type": "code",
   "execution_count": 23,
   "id": "820e6a4a-5030-4c40-8276-ab3a663634b6",
   "metadata": {
    "tags": []
   },
   "outputs": [],
   "source": [
    "print_list = []\n",
    "# Print list created to help calculate the fraction of words in a Section 1 that were hit by a particular word list\n",
    "for r, l in enumerate(counter):\n",
    "    print_list.append(np.round(l / length[r] * 100,2))"
   ]
  },
  {
   "cell_type": "code",
   "execution_count": 24,
   "id": "72860678-09aa-4167-8f41-ace4027fc889",
   "metadata": {
    "tags": []
   },
   "outputs": [
    {
     "name": "stdout",
     "output_type": "stream",
     "text": [
      "Year  Neg.  Pos.  Unc.  Lit.\n",
      "1998: 1.42% 0.55% 1.15% 0.94%\n",
      "1999: 1.53% 0.59% 1.01% 0.90%\n",
      "2000: 1.55% 0.55% 1.06% 1.05%\n"
     ]
    }
   ],
   "source": [
    "# List to create row header\n",
    "year_list = ['1998', '1999', '2000']\n",
    "# Printing column header\n",
    "print(f'Year  Neg.  Pos.  Unc.  Lit.')\n",
    "# For loop to print each row/column from table counter\n",
    "for i in range(3):\n",
    "    print(f'{year_list[i]}: {print_list[i][0]:0.2f}% {print_list[i][1]:0.2f}% {print_list[i][2]:0.2f}% {print_list[i][3]:0.2f}%')"
   ]
  }
 ],
 "metadata": {
  "kernelspec": {
   "display_name": "Python 3 (ipykernel)",
   "language": "python",
   "name": "python3"
  },
  "language_info": {
   "codemirror_mode": {
    "name": "ipython",
    "version": 3
   },
   "file_extension": ".py",
   "mimetype": "text/x-python",
   "name": "python",
   "nbconvert_exporter": "python",
   "pygments_lexer": "ipython3",
   "version": "3.11.3"
  }
 },
 "nbformat": 4,
 "nbformat_minor": 5
}
